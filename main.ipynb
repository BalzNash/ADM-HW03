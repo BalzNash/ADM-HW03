{
 "cells": [
  {
   "cell_type": "markdown",
   "metadata": {},
   "source": [
    "# Homework 3"
   ]
  },
  {
   "cell_type": "markdown",
   "metadata": {},
   "source": [
    "* Manuel Balzan, 1936818\n",
    "* Mohammad Iman Sayyadzadeh, 1909091\n",
    "* Adrienn Timea Aszalos, 1599831\n",
    "\n",
    "### IMPORTANT!!\n",
    "\n",
    "don't run all the file (the data engineering parts require a lot of time and some parts are not reproducible because the htmls are missing). You can just import the .py files and the libraries, then move to paragraph 2.1, from the second block of code and try the search engines if you want."
   ]
  },
  {
   "cell_type": "markdown",
   "metadata": {},
   "source": [
    "## Goal of the homework:\n",
    "\n",
    "Build a search engine over the \"best books ever\" list from GoodReads."
   ]
  },
  {
   "cell_type": "markdown",
   "metadata": {},
   "source": [
    "## 0. Importing Py Files"
   ]
  },
  {
   "cell_type": "code",
   "execution_count": 2,
   "metadata": {},
   "outputs": [],
   "source": [
    "from get_urls import *                 # Ex. 1\n",
    "from download_htmls import *           # Ex. 1\n",
    "from parse_htmls import *              # Ex. 1\n",
    "from text_preprocessing import *       # Ex. 2\n",
    "from search_engines import *           # Ex. 2-3\n",
    "from plot_book_series import *         # Ex. 4\n",
    "import time\n",
    "import matplotlib.pyplot as plt\n",
    "import numpy as np\n",
    "import string\n",
    "import random"
   ]
  },
  {
   "cell_type": "markdown",
   "metadata": {},
   "source": [
    "## 1. Data Collection"
   ]
  },
  {
   "cell_type": "markdown",
   "metadata": {},
   "source": [
    "In this first part we collect data from the Goodreads website and store it in tsv files."
   ]
  },
  {
   "cell_type": "markdown",
   "metadata": {},
   "source": [
    "### 1.1 Get the list of books"
   ]
  },
  {
   "cell_type": "markdown",
   "metadata": {},
   "source": [
    "We are interested in gathering the URLs of all the books from the first 300 pages of section 'Best Books Ever'.\n",
    "\n",
    "To do so first specify the URL of the first 'Goodreads Best Books Ever' page, the prefix of all Goodreads pages, and the prefix of all 'Goodreads Best Book Ever' pages after the first.\n",
    "\n",
    "Then we apply the functions from get_urls.py to get the book URLs for the first 300 pages and store them in a .txt file.\n",
    "\n",
    "(the functions for this part can be found in '**get_urls.py**')"
   ]
  },
  {
   "cell_type": "code",
   "execution_count": null,
   "metadata": {},
   "outputs": [],
   "source": [
    "target_page = 'https://www.goodreads.com/list/show/1.Best_Books_Ever'\n",
    "url_prefix = 'https://www.goodreads.com'\n",
    "page_prefix = 'https://www.goodreads.com/list/show/1.Best_Books_Ever?page='\n",
    "    \n",
    "\n",
    "urls = get_all_pages_urls(target_page, 300, url_prefix, page_prefix)\n",
    "\n",
    "store_in_txt(urls,'books_urls.txt')"
   ]
  },
  {
   "cell_type": "markdown",
   "metadata": {},
   "source": [
    "### 1.2 Crawl books"
   ]
  },
  {
   "cell_type": "markdown",
   "metadata": {},
   "source": [
    "Now we want to store the html for each of the books in our .txt file.\n",
    "\n",
    "To do so, we iterate over each URL in the .txt file, downloading the page and storing it in an .html file. The files are saved in a folder named 'htmls'.\n",
    "\n",
    "(the functions for this part can be found in '**download_htmls.py**')"
   ]
  },
  {
   "cell_type": "code",
   "execution_count": null,
   "metadata": {},
   "outputs": [],
   "source": [
    "directory = os.getcwd()+'\\htmls\\\\'\n",
    "driver = webdriver.Firefox(executable_path=GeckoDriverManager().install())\n",
    "\n",
    "run_html_downloader(driver, 1, 30000, directory)"
   ]
  },
  {
   "cell_type": "markdown",
   "metadata": {},
   "source": [
    "### 1.3 Parse downloaded pages"
   ]
  },
  {
   "cell_type": "markdown",
   "metadata": {},
   "source": [
    "For the last part of Ex. 1, we need to parse each of the htmls, extracting some specific fields and storing each parsed book in a .tsv file. If the plot is not in English, we skip the book (without storing anything) and move to the next one.\n",
    "\n",
    "To do so, we define a function to parse each field and, for each html, we call all these function and store the output in a .tsv file. The files are saved in a folder named 'tsvs'\n",
    "\n",
    "(the functions for this part can be found in '**parse_htmls.py**'"
   ]
  },
  {
   "cell_type": "code",
   "execution_count": null,
   "metadata": {},
   "outputs": [],
   "source": [
    "for i in range(30000):\n",
    "    page_source = open_and_read_html('./htmls//article_'+str(i+1)+'.html')\n",
    "    field_values = get_field_values(page_source, field_function_map)\n",
    "    write_tsv_files(field_values, i+1, field_function_map)\n",
    "    print(i+1)"
   ]
  },
  {
   "cell_type": "markdown",
   "metadata": {},
   "source": [
    "## 2. Search Engine"
   ]
  },
  {
   "cell_type": "markdown",
   "metadata": {},
   "source": [
    "Now we want to implement two different search engines that, given a query, return the books that match the query.\n",
    "\n",
    "The first thing we want to do, is to pre-process the information contained in each book.\\\n",
    "Since we are only interested in the content of the plot, we only process that field.\n",
    "\n",
    "We process each plot as follows:\n",
    "\n",
    "1. Convert everything to lowercase\n",
    "2. Remove Punctuation\n",
    "3. Tokenization (this is actually done together with 2.)\n",
    "4. Remove stopwords\n",
    "5. Lemmatization\n",
    "\n",
    "We decided to use lemmatization instead of stemming because from our tests it yielded better results. It is important to note that stemming is generally a faster operation.\n",
    "\n",
    "After these steps, and before moving to the next book, we also encode each token (word) of our output into an integer, and then convert each plot into a dictionary with the integers as keys and the frequency of each integer as values.\n",
    "\n",
    "As an example, suppose that we want to process the text '*this book is amazing, really amazing*'. After the 5 steps, it may look like *['book', 'amazing', 'really', 'amazing']*. Then we encode it and it would look like *[1,2,3,2]*. At last, we convert it into *{1 : 1, 3: 1, 2: 2}*\n",
    "\n",
    "We store the dictionary representation of the plot as a .pickle file in the 'encoded_files' folder (for future use) and move to the next file. Obviously we need to keep track of which word is mapped to which integer, so we also create a file called **vocabulary.pickle** which maps from words to integers. This file gets updated (with a new key-value pair) each time we find a new word.\n",
    "\n",
    "(the functions for this part can be found in '**text_preprocessing.py**')"
   ]
  },
  {
   "cell_type": "code",
   "execution_count": null,
   "metadata": {},
   "outputs": [],
   "source": [
    "tsv_folder = '\\\\tsvs\\\\'\n",
    "cwd = os.getcwd()\n",
    "vocabulary = {}\n",
    "    \n",
    "# sorts the .tsv files in numerical order (to avoid reading in this order 1 -> 10 -> 100)\n",
    "file_list = os.listdir(cwd+tsv_folder)\n",
    "file_list = sorted(file_list, key=lambda x:int(os.path.splitext(x)[0][8:]))\n",
    "\n",
    "# iterate over each .tsv file\n",
    "for file_name in file_list:\n",
    "    plot = get_plot_from_tsv(cwd+tsv_folder+file_name)\n",
    "    preprocessed_plot = preprocess_text(plot) # apply the 5 steps\n",
    "    vocabulary = update_vocabulary(preprocessed_plot, vocabulary) # update the vocabulary\n",
    "    encode_plot(preprocessed_plot, vocabulary, int(file_name[8:-4]), cwd) # encode plot and store the dictionary in a .pickle\n",
    "\n",
    "save_vocabulary(vocabulary) # store the vocabulary as a .pickle file"
   ]
  },
  {
   "cell_type": "markdown",
   "metadata": {},
   "source": [
    "### 2.1 Conjunctive query"
   ]
  },
  {
   "cell_type": "markdown",
   "metadata": {},
   "source": [
    "Our first search engine returns all the books whose plot match the query (each term of the query must be included in the plot).\n",
    "\n",
    "First of all, we create the so called inverted index, which is a dictionary that maps from integers (the encoded words) to a list of all the documents (.tsv files of each book) containing that encoded word.\n",
    "\n",
    "To do so we iterate over all the .pickle files in the 'encoded_files' folder.\n",
    "\n",
    "(the functions for this part can be found in '**search_engines.py**')"
   ]
  },
  {
   "cell_type": "code",
   "execution_count": 5,
   "metadata": {},
   "outputs": [],
   "source": [
    "cwd = os.getcwd()\n",
    "encoded_files_folder = \"\\\\encoded_files\\\\\"\n",
    "\n",
    "create_inverted_idx(cwd, encoded_files_folder)"
   ]
  },
  {
   "cell_type": "markdown",
   "metadata": {},
   "source": [
    "----------------------------------------**FROM NOW ON YOU CAN RUN THE CODE**-------------------------------------------------------"
   ]
  },
  {
   "cell_type": "markdown",
   "metadata": {},
   "source": [
    "We now need to ask the user to enter a textual query and pre-process it like we did before with the plots (without storing it in a dictionary)"
   ]
  },
  {
   "cell_type": "code",
   "execution_count": 3,
   "metadata": {},
   "outputs": [
    {
     "name": "stdout",
     "output_type": "stream",
     "text": [
      "enter your query:\n",
      "thunder god\n"
     ]
    }
   ],
   "source": [
    "cwd = os.getcwd()\n",
    "\n",
    "with open('vocabulary.pickle', 'rb') as q:\n",
    "        vocabulary = pickle.load(q)\n",
    "\n",
    "query = input('enter your query:\\n')\n",
    "preprocessed_query = preprocess_text(query)\n",
    "encoded_query = encode_query(preprocessed_query, vocabulary)"
   ]
  },
  {
   "cell_type": "markdown",
   "metadata": {},
   "source": [
    "Now we can search for the documents that match the query.\n",
    "\n",
    "The best approach to finding which documents contain all the query words is the following:\n",
    "\n",
    "1. We first consider only the keys in the inverted index that are in the query, and get their values (the list of documents)\n",
    "2. For each list, we start at index 0 and find the maximum value of the corresponding items.\n",
    "3. If the maximum value corresponds to all the selected item of each list, we add that value to our query result, else we increase the index of all the lists that are not pointing at the maximum\n",
    "4. Once the index of any list exceeds the list length, we interrupt our search and return the results.\n",
    "\n",
    "\n",
    "(the functions for this part can be found in '**search_engines.py**')"
   ]
  },
  {
   "cell_type": "code",
   "execution_count": 4,
   "metadata": {},
   "outputs": [
    {
     "data": {
      "text/plain": [
       "[1022, 4022, 8658, 8748, 10907, 11690, 12231, 15113, 18596, 19077, 27729]"
      ]
     },
     "execution_count": 4,
     "metadata": {},
     "output_type": "execute_result"
    }
   ],
   "source": [
    "# loading the inverted_idx\n",
    "with open('inverted_idx.pickle', 'rb') as h:\n",
    "    inverted_idx = pickle.load(h)\n",
    "\n",
    "\n",
    "result = search_engine(encoded_query, inverted_idx)\n",
    "    \n",
    "result"
   ]
  },
  {
   "cell_type": "markdown",
   "metadata": {},
   "source": [
    "We can now print the result of our search, printing for each book its title, plot and URL \n",
    "\n",
    "(the functions for this part can be found in '**search_engines.py**')"
   ]
  },
  {
   "cell_type": "code",
   "execution_count": 5,
   "metadata": {},
   "outputs": [
    {
     "name": "stdout",
     "output_type": "stream",
     "text": [
      "\n",
      "--BOOKTITLE--\n",
      "Life, the Universe and Everything\n",
      "\n",
      "--PLOT--\n",
      "The unhappy inhabitants of planet Krikkit are sick of looking at the night sky above their heads–so they plan to destroy it. The universe, that is. Now only five individuals stand between the killer robots of Krikkit and their goal of total annihilation.They are Arthur Dent, a mild-mannered space and time traveler who tries to learn how to fly by throwing himself at the ground and missing; Ford Prefect, his best friend, who decides to go insane to see if he likes it; Slartibartfast, the indomitable vice president of the Campaign for Real Time, who travels in a ship powered by irrational behavior; Zaphod Beeblebrox, the two-headed, three-armed ex-president of the galazy; and Trillian, the sexy space cadet who is torn between a persistent Thunder God and a very depressed Beeblebrox.How will it all end? Will it end? Only this stalwart crew knows as they try to avert “universal” Armageddon and save life as we know it–and don’t know it!\n",
      "\n",
      "--URL--\n",
      "https://www.goodreads.com/book/show/8694.Life_the_Universe_and_Everything\n",
      "\n",
      "\n",
      "----------------------------------------------------------------------------------------------\n",
      "\n",
      "\n",
      "--BOOKTITLE--\n",
      "The Hammer of Thor\n",
      "\n",
      "--PLOT--\n",
      "\"\"\"Magnus Chase, you nearly started Ragnarok. What are you going to do next?\"\"It's been six weeks since Magnus and his friends returned from defeating Fenris Wolf and the fire giants. Magnus has adjusted to life at the Hotel Valhalla—as much as a once-homeless and previously alive kid can. As a son of Frey, the god of summer, fertility, and health, Magnus doesn't exactly fit in with the rest of Odin's chosen warriors, but he has a few good peeps among his hallmates on floor nineteen, and he's been dutifully training for Ragnarok along with everyone else. His days have settled into a new kind of normal.But Magnus should have known there's no such thing as normal in the Nine Worlds. His friends Hearthstone and Blitzen have disappeared. A new hallmate is creating chaos. According to a very nervous goat, a certain object belonging to Thor is still missing, and the thunder god's enemies will stop at nothing to gain control of it.Time to summon Jack, the Sword of Summer, and take action. Too bad the only action Jack seems to be interested in is dates with other magical weapons. . . .\"\n",
      "\n",
      "--URL--\n",
      "https://www.goodreads.com/book/show/27904311-the-hammer-of-thor\n",
      "\n",
      "\n",
      "----------------------------------------------------------------------------------------------\n",
      "\n",
      "\n",
      "--BOOKTITLE--\n",
      "Warlock\n",
      "\n",
      "--PLOT--\n",
      "One of the world's most acclaimed adventure writers returns to the world of ancient Egypt with the stunning sequel to the New York Times bestselling River God. In the wake of a sixty-year war over the reign of the kingdoms of Egypt, two young pharaohs have risen to claim power, but only one can succeed, deciding the fate of his empire forever...The mission of Prince Nefer, rightful heir to the throne, is to rebuild a magnificent kingdom in the stark and tumbled ruins of the embattled city of Gallala. The desire of Lord Naja is to destroy his rival and rule the land with unholy supremacy. But Nefer has on his side the warlock Taita, a matchless ally and legendary priest of notorious powers...To see their dream come true, Nefer and Taita must stay one step ahead of the depraved assassin, survive the tortuous shadow of her ever-pursuing armies, and outwit the shocking betrayals of is own flesh and blood. As Nefer's courage increases, and as Taita's magic grows more beguiling, so grows stronger the power of their tireless enemies....Now, with the threat of tyranny and blood thundering closer and closer toward the vulnerable gates of Gallala, the ultimate battle for Egypt will begin...\n",
      "\n",
      "--URL--\n",
      "https://www.goodreads.com/book/show/37619.Warlock\n",
      "\n",
      "\n",
      "----------------------------------------------------------------------------------------------\n",
      "\n",
      "\n",
      "--BOOKTITLE--\n",
      "Hammered\n",
      "\n",
      "--PLOT--\n",
      "Thor, the Norse god of thunder, is worse than a blowhard and a bully—he’s ruined countless lives and killed scores of innocents. After centuries, Viking vampire Leif Helgarson is ready to get his vengeance, and he’s asked his friend Atticus O’Sullivan, the last of the Druids, to help take down this Norse nightmare.One survival strategy has worked for Atticus for more than two thousand years: stay away from the guy with the lightning bolts. But things are heating up in Atticus’s home base of Tempe, Arizona. There’s a vampire turf war brewing, and Russian demon hunters who call themselves the Hammers of God are running rampant. Despite multiple warnings and portents of dire consequences, Atticus and Leif journey to the Norse plain of Asgard, where they team up with a werewolf, a sorcerer, and an army of frost giants for an epic showdown against vicious Valkyries, angry gods, and the hammer-wielding Thunder Thug himself.\n",
      "\n",
      "--URL--\n",
      "https://www.goodreads.com/book/show/9595620-hammered\n",
      "\n",
      "\n",
      "----------------------------------------------------------------------------------------------\n",
      "\n",
      "\n",
      "--BOOKTITLE--\n",
      "Tricked\n",
      "\n",
      "--PLOT--\n",
      "Druid Atticus O’Sullivan hasn’t stayed alive for more than two millennia without a fair bit of Celtic cunning. So when vengeful thunder gods come Norse by Southwest looking for payback, Atticus, with a little help from the Navajo trickster god Coyote, lets them think that they’ve chopped up his body in the Arizona desert.But the mischievous Coyote is not above a little sleight of paw, and Atticus soon finds that he’s been duped into battling bloodthirsty desert shapeshifters called skinwalkers. Just when the Druid thinks he’s got a handle on all the duplicity, betrayal comes from an unlikely source. If Atticus survives this time, he vows he won’t be fooled again. Famous last words.\n",
      "\n",
      "--URL--\n",
      "https://www.goodreads.com/book/show/12700306-tricked\n",
      "\n",
      "\n",
      "----------------------------------------------------------------------------------------------\n",
      "\n",
      "\n",
      "--BOOKTITLE--\n",
      "Allan Quatermain\n",
      "\n",
      "--PLOT--\n",
      "\"Allan Quartermain is a sequel to the famous novel King Solomon's Mines. Quatermain has lost his only son and longs to get back into the wilderness. Having persuaded Sir Henry Curtis, Captain John Good, and the Zulu chief Umbopa to accompany him, they set out from the coast of east Africa, this time in search of a white race reputed to live north of Mount Kenya. They survive fierce encounters with Masai warriors, undergo a terrifying subterranean journey, and discover a lost civilization before being caught up in a passionate love-triangle that engulfs the country in a ferocious civil war. This novel is based on author's own experience in the African continent.Excerpt:'I have just buried my boy, my poor handsome boy of whom I was so proud, and my heart is broken. It is very hard having only one son to lose him thus, but God's will be done. Who am I that I should complain? The great wheel of Fate rolls on like a Juggernaut, and crushes us all in turn, some soon, some late it does not matter when, in the end, it crushes us all. We do not prostrate ourselves before it like the poor Indians; we fly hither and thither we cry for mercy; but it is of no use, the black Fate thunders on and in its season reduces us to powder. 'Poor Harry to go so soon! just when his life was opening to him. He was doing so well at the hospital, he had passed his last examination with honours, and I was proud of them, much prouder than he was, I think. And then he must needs go to that smallpox hospital. He wrote to me that he was not afraid of smallpox and wanted to gain the experience; and now the disease has killed him, and I, old and grey and withered, am left to mourn over him, without a chick or child to comfort me. I might have saved him, too-I have money enough for both of us, and much more than enough-King Solomon's Mines provided me with that; but I said, \"\"No, let the boy earn his living, let him labour that he may enjoy rest.\"\" But the rest has come to him before the labour. Oh, my boy, my boy!\"\n",
      "\n",
      "--URL--\n",
      "https://www.goodreads.com/book/show/722035.Allan_Quatermain\n",
      "\n",
      "\n",
      "----------------------------------------------------------------------------------------------\n",
      "\n",
      "\n",
      "--BOOKTITLE--\n",
      "The Reason\n",
      "\n",
      "--PLOT--\n",
      "When facing the impossible, will you believe?Storm clouds gather over a small Michigan town. As thunder shakes the sky, the lights inside St. Thomas Church flicker . . . and then go out.All is black until a thick bolt of lightning slices the sky, striking the church’s large wooden cross—leaving it ablaze and splintered in two.When the storm ends—the search for answers begins.James Lindy, the church’s blind minister, wonders how his small congregation can repair the cross and keep their faith in the midst of adversity. And he hears the words “only believe.”Macey Lewis, the town’s brilliant young oncologist, is drawn to Alex, a young boy who’s recently been diagnosed with an aggressive leukemia. She puts her hope in modern medicine—yet is challenged to “only believe.”And Alex’s single mom, who has given everything she can to her boy, is pleading with God to know the reason this is happening . . . to save her son. But she only hears silence and wonders how she can possibly “only believe.”The Reason is a milestone debut novel, opening with a thunderbolt and never letting up as it introduces us to everyday characters who are wrestling with the questions: Where is God when bad things happen? And does God ignore the prayers of the faithful? The answer each character receives will astound readers while offering an unforgettable call to hope, to change, to . . . only believe.“This is a skillfully written first novel with the narrative voice, knack for dialogue, and plot movement of a veteran author.” —Publishers Weekly\n",
      "\n",
      "--URL--\n",
      "https://www.goodreads.com/book/show/25855082-the-reason\n",
      "\n",
      "\n",
      "----------------------------------------------------------------------------------------------\n",
      "\n",
      "\n",
      "--BOOKTITLE--\n",
      "Facing Your Giants: God Still Does the Impossible\n",
      "\n",
      "--PLOT--\n",
      "You know your Goliath. You recognize his walk, the thunder of his voice.He taunts you with bills you can't pay, people you can't please, habits you can't break, failures you can't forget, and a future you can't face. But just like David, you can face your giant, even if you aren't the strongest, the smartest, the best equipped, of the holiest.David. You could read his story and wonder what God saw in him. His life has little to offer the unstained, straight-A saint. He fell as often as he stood, stumbled as often as he conquered. But for those who know the sound of Goliath, David gives this reminder:Focus on giants -- you stumble; focus on God -- your giants tumble.If you're ready to face your giants, let his story inspire you. The same God who helped him will help you.\n",
      "\n",
      "--URL--\n",
      "https://www.goodreads.com/book/show/74169.Facing_Your_Giants\n",
      "\n",
      "\n",
      "----------------------------------------------------------------------------------------------\n",
      "\n",
      "\n",
      "--BOOKTITLE--\n",
      "Freya 800 AD\n",
      "\n",
      "--PLOT--\n",
      "Freya lived more than a thousand years ago at the beginning of the Viking raids on Britain.Home was a longhouse, one of several in the settlement; a stockade protected the small community from bears and wolves roaming the vast glacial wilderness.Freya's husband, Olaf, hungered for wealth. He sailed the longship, Odin's Thunder, across the Norse Sea to wreak havoc the Picts of northern Britain. Freya, haunted by images of her husband's rapine and cruel infidelity, prays to pagan gods for his return. With the settlement almost deserted, Knut, a man of the mountains with a warped and cruel mind, crossed the threshold of Freya's longhouse, with devastating consequences.In a dreadful twist of fate, Freya is forced to live in isolation. It takes all her willpower to survive a dark and frozen winter with only Brock, her favourite hound, for company.When Olaf had been missing for two winter seasons, Freya sailed to the shores of Britain to find him. Betrayal and tragedy lie ahead.\n",
      "\n",
      "--URL--\n",
      "https://www.goodreads.com/book/show/13613471-freya-800-ad\n",
      "\n",
      "\n",
      "----------------------------------------------------------------------------------------------\n",
      "\n",
      "\n",
      "--BOOKTITLE--\n",
      "Night Fall: What Rises Must Fall\n",
      "\n",
      "--PLOT--\n",
      "What Rises Must FallUncover what Happens after Dark in Shade...In the rainy valley the sky is covered by cloud as the Thunder God wars with his son, Apollo. As dusk descends the wolves haunt the forest.A crescent moon rises and all days are nights for the huntress, until the ancient battle is won. What lurks beneath the surface in the heartlands of myth and reality is a tale as insidious and devious as the wolves themselves. The sun has not yet set forever on a love that has defied time in a valley cursed for centuries. Lila has nothing to lose, except for the one thing that means everything. The unwilling heroine with a chip on her shoulder treads between two worlds on a path of inescapable fate that the Goddess has chosen for her. Lila must follow a dark path towards a war that no one can win. Suspicions rage as the fight takes her into the belly of the beast. Lives will be lost in a vicious clash.Who will be left standing after the fray?The hunter’s legacy must be fulfilled in a vivid tale of heartbreak and betrayal as what rises must fall and those that have fallen must find the strength to rise again.No one will emerge unscathed.\n",
      "\n",
      "--URL--\n",
      "https://www.goodreads.com/book/show/18388385-night-fall\n",
      "\n",
      "\n",
      "----------------------------------------------------------------------------------------------\n",
      "\n",
      "\n",
      "--BOOKTITLE--\n",
      "Magnus Chase and the Hammer of Thor\n",
      "\n",
      "--PLOT--\n",
      "Thor's hammer is missing again. The thunder god has a disturbing habit of misplacing his weapon - the mightiest force in the Nine Worlds. But this time the hammer isn't just lost, it has fallen into enemy hands. If Magnus Chase and his friends can't retrieve the hammer quickly, the mortal worlds will be defenseless against an onslaught of giants. Ragnarok will begin. The Nine Worlds will burn. Unfortunately, the only person who can broker a deal for the hammer's return is the gods' worst enemy, Loki - and the price he wants is very high.\n",
      "\n",
      "--URL--\n",
      "https://www.goodreads.com/book/show/27904311-the-hammer-of-thor\n",
      "\n",
      "\n",
      "----------------------------------------------------------------------------------------------\n",
      "\n"
     ]
    }
   ],
   "source": [
    "print_search_engine_result(result)"
   ]
  },
  {
   "cell_type": "markdown",
   "metadata": {},
   "source": [
    "### 2.2 Conjunctive query & Ranking score"
   ]
  },
  {
   "cell_type": "markdown",
   "metadata": {},
   "source": [
    "Our second search engine is similar to the first one, but this time we are not returning all the documents that match the query, instead we only return the top k documents that are most similar to the query.\n",
    "\n",
    "For this task we use the cosine similarity and the TfIdf score.\n",
    "\n",
    "The TfIdf score is calculated for each document and each of its words and it's composed of two parts:\n",
    "\n",
    "1. Tf: term frequency, how many times that word appears in the document\n",
    "2. Idf: inverse document frequency, the total number of documents divided by the number of documents that contain the word\n",
    "\n",
    "The cosine similarity is calculated for each query-document pair as follows:\n",
    "\n",
    "Cosine Similarity (d, q) =  sum(TfIdf(d)) / ||TfIdf(d)|| * ||q|| \n",
    "\n",
    "This is a simplified version of the cosine similarity, derived from our assumption that the query score is 1 for each one of its tokens. Note that the TfIdf in the numerator is related only to the common terms between the query and the document, while the one in the denominator considers all words in the document"
   ]
  },
  {
   "cell_type": "markdown",
   "metadata": {},
   "source": [
    "We start by creating another inverted index and storing it as a .pickle file for future use, but this time our values will be tuples like this (document number, tfidf score)"
   ]
  },
  {
   "cell_type": "code",
   "execution_count": null,
   "metadata": {},
   "outputs": [],
   "source": [
    "create_inverted_idx_2(cwd, encoded_files_folder)"
   ]
  },
  {
   "cell_type": "markdown",
   "metadata": {},
   "source": [
    "We also want to pre-calculate the ||d|| term in the denominator of the cosine similarity (before the square root).\n",
    "\n",
    "To do so, we first iterate over the inverted index and extract all the TfIdf scores, square them and finally sum them for each document. We store the output in a .pickle file for future use"
   ]
  },
  {
   "cell_type": "code",
   "execution_count": null,
   "metadata": {},
   "outputs": [],
   "source": [
    "# load the inverted_idx2 first\n",
    "with open('inverted_idx2.pickle', 'rb') as h:\n",
    "    inverted_idx2 = pickle.load(h)\n",
    "\n",
    "\n",
    "store_squared_tfidf_per_document(inverted_idx2)"
   ]
  },
  {
   "cell_type": "markdown",
   "metadata": {},
   "source": [
    "Now we have everything we need and we can run our search engine.\n",
    "\n",
    "The engine selects all the documents that match the query, storing them as a dictionary mapping from document to the sum of their tfidf scores (only for the word in the query.\n",
    "\n",
    "Then we compute the cosine similarity for each of the selected documents.\n",
    "\n",
    "Finally, we use the **heapq** library to get the top 3 documents that are more similar to the query. They are stored in a list of tuples where the first element of the tuple is the document and the second one is the similarity score"
   ]
  },
  {
   "cell_type": "code",
   "execution_count": 9,
   "metadata": {},
   "outputs": [
    {
     "name": "stdout",
     "output_type": "stream",
     "text": [
      "enter your query:\n",
      "thunder god\n"
     ]
    },
    {
     "data": {
      "text/plain": [
       "[(8748, 0.24228100376672246),\n",
       " (15113, 0.24220359190267945),\n",
       " (27729, 0.2119018829678689)]"
      ]
     },
     "execution_count": 9,
     "metadata": {},
     "output_type": "execute_result"
    }
   ],
   "source": [
    "cwd = os.getcwd()\n",
    "encoded_files_folder = \"\\\\encoded_files\\\\\"\n",
    "\n",
    "with open('inverted_idx2.pickle', 'rb') as h:\n",
    "    inverted_idx2 = pickle.load(h)\n",
    "    \n",
    "with open('vocabulary.pickle', 'rb') as q:\n",
    "    vocabulary = pickle.load(q)\n",
    "    \n",
    "with open('squared_tfidf_per_document.pickle', \"rb\") as q:\n",
    "    squared_tfidf_per_document = pickle.load(q)\n",
    "\n",
    "\n",
    "query = input('enter your query:\\n')\n",
    "preprocessed_query = preprocess_text(query)\n",
    "encoded_query = encode_query(preprocessed_query, vocabulary)\n",
    "result = search_engine_2(encoded_query, inverted_idx2, squared_tfidf_per_document, 3)\n",
    "\n",
    "result"
   ]
  },
  {
   "cell_type": "markdown",
   "metadata": {},
   "source": [
    "We can now print the result of our search, printing for each book its title, plot, URL and Cosine Similarity \n",
    "\n",
    "(the functions for this part can be found in '**search_engines.py**')"
   ]
  },
  {
   "cell_type": "code",
   "execution_count": 10,
   "metadata": {},
   "outputs": [
    {
     "name": "stdout",
     "output_type": "stream",
     "text": [
      "\n",
      "--BOOKTITLE--\n",
      "Hammered\n",
      "\n",
      "--PLOT--\n",
      "Thor, the Norse god of thunder, is worse than a blowhard and a bully—he’s ruined countless lives and killed scores of innocents. After centuries, Viking vampire Leif Helgarson is ready to get his vengeance, and he’s asked his friend Atticus O’Sullivan, the last of the Druids, to help take down this Norse nightmare.One survival strategy has worked for Atticus for more than two thousand years: stay away from the guy with the lightning bolts. But things are heating up in Atticus’s home base of Tempe, Arizona. There’s a vampire turf war brewing, and Russian demon hunters who call themselves the Hammers of God are running rampant. Despite multiple warnings and portents of dire consequences, Atticus and Leif journey to the Norse plain of Asgard, where they team up with a werewolf, a sorcerer, and an army of frost giants for an epic showdown against vicious Valkyries, angry gods, and the hammer-wielding Thunder Thug himself.\n",
      "\n",
      "--URL--\n",
      "https://www.goodreads.com/book/show/9595620-hammered\n",
      "\n",
      "\n",
      "--SIMILARITY--\n",
      "0.24 \n",
      "\n",
      "----------------------------------------------------------------------------------------------\n",
      "\n",
      "\n",
      "--BOOKTITLE--\n",
      "Facing Your Giants: God Still Does the Impossible\n",
      "\n",
      "--PLOT--\n",
      "You know your Goliath. You recognize his walk, the thunder of his voice.He taunts you with bills you can't pay, people you can't please, habits you can't break, failures you can't forget, and a future you can't face. But just like David, you can face your giant, even if you aren't the strongest, the smartest, the best equipped, of the holiest.David. You could read his story and wonder what God saw in him. His life has little to offer the unstained, straight-A saint. He fell as often as he stood, stumbled as often as he conquered. But for those who know the sound of Goliath, David gives this reminder:Focus on giants -- you stumble; focus on God -- your giants tumble.If you're ready to face your giants, let his story inspire you. The same God who helped him will help you.\n",
      "\n",
      "--URL--\n",
      "https://www.goodreads.com/book/show/74169.Facing_Your_Giants\n",
      "\n",
      "\n",
      "--SIMILARITY--\n",
      "0.24 \n",
      "\n",
      "----------------------------------------------------------------------------------------------\n",
      "\n",
      "\n",
      "--BOOKTITLE--\n",
      "Magnus Chase and the Hammer of Thor\n",
      "\n",
      "--PLOT--\n",
      "Thor's hammer is missing again. The thunder god has a disturbing habit of misplacing his weapon - the mightiest force in the Nine Worlds. But this time the hammer isn't just lost, it has fallen into enemy hands. If Magnus Chase and his friends can't retrieve the hammer quickly, the mortal worlds will be defenseless against an onslaught of giants. Ragnarok will begin. The Nine Worlds will burn. Unfortunately, the only person who can broker a deal for the hammer's return is the gods' worst enemy, Loki - and the price he wants is very high.\n",
      "\n",
      "--URL--\n",
      "https://www.goodreads.com/book/show/27904311-the-hammer-of-thor\n",
      "\n",
      "\n",
      "--SIMILARITY--\n",
      "0.21 \n",
      "\n",
      "----------------------------------------------------------------------------------------------\n",
      "\n"
     ]
    }
   ],
   "source": [
    "print_search_engine_2_result(result)"
   ]
  },
  {
   "cell_type": "markdown",
   "metadata": {},
   "source": [
    "## 3. Define a new score!"
   ]
  },
  {
   "cell_type": "markdown",
   "metadata": {},
   "source": [
    "Now we implement a search engine, based on the previous one, that adjusts the score based on other info that is provided by the user.\n",
    "\n",
    "The new engine first returns the top 10 books based on the cosine similarity, then asks the user to enter more information about other fields and updates the scores in this way:\n",
    "\n",
    "for each additional info that matches with a specific field, we calculate the new score by adding 1/2 of the previous score to the previous score. So for example if document 3 had a score of 0.5, and the additional info 'bookseries:Harry Potter' matches with the document, its new score will be 0.5 + 1/2 * 0.5 = 0.75. We return only the top 3 books based on the new scoring.\n",
    "\n",
    "Only textual fields are supported (e.g. characters but not ratingValue) but it would be nice to extend it also to numeric fields."
   ]
  },
  {
   "cell_type": "code",
   "execution_count": 14,
   "metadata": {},
   "outputs": [
    {
     "name": "stdout",
     "output_type": "stream",
     "text": [
      "enter your query:\n",
      "thunder god\n",
      "please insert additional_info:\n",
      " Insert field name followed by \":\" and the value\n",
      " Type \"end\" when you are done\n",
      "setting:arizona\n",
      "please insert additional_info:\n",
      " Insert field name followed by \":\" and the value\n",
      " Type \"end\" when you are done\n",
      "characters:atticus\n",
      "please insert additional_info:\n",
      " Insert field name followed by \":\" and the value\n",
      " Type \"end\" when you are done\n",
      "end\n",
      "\n",
      "--BOOKTITLE--\n",
      "Hammered\n",
      "\n",
      "--PLOT--\n",
      "Thor, the Norse god of thunder, is worse than a blowhard and a bully—he’s ruined countless lives and killed scores of innocents. After centuries, Viking vampire Leif Helgarson is ready to get his vengeance, and he’s asked his friend Atticus O’Sullivan, the last of the Druids, to help take down this Norse nightmare.One survival strategy has worked for Atticus for more than two thousand years: stay away from the guy with the lightning bolts. But things are heating up in Atticus’s home base of Tempe, Arizona. There’s a vampire turf war brewing, and Russian demon hunters who call themselves the Hammers of God are running rampant. Despite multiple warnings and portents of dire consequences, Atticus and Leif journey to the Norse plain of Asgard, where they team up with a werewolf, a sorcerer, and an army of frost giants for an epic showdown against vicious Valkyries, angry gods, and the hammer-wielding Thunder Thug himself.\n",
      "\n",
      "--URL--\n",
      "https://www.goodreads.com/book/show/9595620-hammered\n",
      "\n",
      "\n",
      "--SIMILARITY--\n",
      "0.55 \n",
      "\n",
      "----------------------------------------------------------------------------------------------\n",
      "\n",
      "\n",
      "--BOOKTITLE--\n",
      "Facing Your Giants: God Still Does the Impossible\n",
      "\n",
      "--PLOT--\n",
      "You know your Goliath. You recognize his walk, the thunder of his voice.He taunts you with bills you can't pay, people you can't please, habits you can't break, failures you can't forget, and a future you can't face. But just like David, you can face your giant, even if you aren't the strongest, the smartest, the best equipped, of the holiest.David. You could read his story and wonder what God saw in him. His life has little to offer the unstained, straight-A saint. He fell as often as he stood, stumbled as often as he conquered. But for those who know the sound of Goliath, David gives this reminder:Focus on giants -- you stumble; focus on God -- your giants tumble.If you're ready to face your giants, let his story inspire you. The same God who helped him will help you.\n",
      "\n",
      "--URL--\n",
      "https://www.goodreads.com/book/show/74169.Facing_Your_Giants\n",
      "\n",
      "\n",
      "--SIMILARITY--\n",
      "0.24 \n",
      "\n",
      "----------------------------------------------------------------------------------------------\n",
      "\n",
      "\n",
      "--BOOKTITLE--\n",
      "Tricked\n",
      "\n",
      "--PLOT--\n",
      "Druid Atticus O’Sullivan hasn’t stayed alive for more than two millennia without a fair bit of Celtic cunning. So when vengeful thunder gods come Norse by Southwest looking for payback, Atticus, with a little help from the Navajo trickster god Coyote, lets them think that they’ve chopped up his body in the Arizona desert.But the mischievous Coyote is not above a little sleight of paw, and Atticus soon finds that he’s been duped into battling bloodthirsty desert shapeshifters called skinwalkers. Just when the Druid thinks he’s got a handle on all the duplicity, betrayal comes from an unlikely source. If Atticus survives this time, he vows he won’t be fooled again. Famous last words.\n",
      "\n",
      "--URL--\n",
      "https://www.goodreads.com/book/show/12700306-tricked\n",
      "\n",
      "\n",
      "--SIMILARITY--\n",
      "0.24 \n",
      "\n",
      "----------------------------------------------------------------------------------------------\n",
      "\n"
     ]
    }
   ],
   "source": [
    "query = input('enter your query:\\n')\n",
    "preprocessed_query = preprocess_text(query)\n",
    "encoded_query = encode_query(preprocessed_query, vocabulary)\n",
    "\n",
    "print_search_engine_2_result(search_engine_3(encoded_query, inverted_idx2, squared_tfidf_per_document, preprocessed_query))"
   ]
  },
  {
   "cell_type": "markdown",
   "metadata": {},
   "source": [
    "We can see that, because of the additional info, the book 'Hammered' has significantly increased its score. Moreover, 'Tricked' is now in the top 3, because 'characters:Atticus' matched its field 'characters."
   ]
  },
  {
   "cell_type": "markdown",
   "metadata": {},
   "source": [
    "## 4. Make a nice visualization!"
   ]
  },
  {
   "cell_type": "markdown",
   "metadata": {},
   "source": [
    "Considering the first 10 book series in order of appearance we create a 2-d plot where the x-axis represents the years since publication of the first book (starting from 0), and the y-axis represents the cumulative page count of the book series."
   ]
  },
  {
   "cell_type": "code",
   "execution_count": 9,
   "metadata": {},
   "outputs": [
    {
     "data": {
      "image/png": "[encoded data removed]",
      "text/plain": [
       "<Figure size 1152x576 with 1 Axes>"
      ]
     },
     "metadata": {},
     "output_type": "display_data"
    }
   ],
   "source": [
    "plotting_the_book_series()"
   ]
  },
  {
   "cell_type": "markdown",
   "metadata": {},
   "source": [
    "## 5. Algorithmic question"
   ]
  },
  {
   "cell_type": "markdown",
   "metadata": {},
   "source": [
    "### 1. Write a recursive program that, given a string, computes the length of the subsequence of maximum length that is in alphabetical order. Try some examples. Are the examples of short strings correct? Can you find examples that your algorithm does not terminate in reasonable time?"
   ]
  },
  {
   "cell_type": "code",
   "execution_count": 48,
   "metadata": {},
   "outputs": [
    {
     "name": "stdout",
     "output_type": "stream",
     "text": [
      "enter a sequence of alphabets with upper cases: CEGPVQ\n",
      "Length of the longest subsequence is:  5\n"
     ]
    }
   ],
   "source": [
    "def longest_seq(A, I, m, n): \n",
    "    if m == 0 or n == 0: # for terminating the code at the end\n",
    "        return 0; \n",
    "    elif A[m-1] == I[n-1]: # compares the last letters of I and A in every level that function works\n",
    "        return 1 + longest_seq(A, I, m-1, n-1); \n",
    "    else: \n",
    "        return max(longest_seq(A, I, m, n-1), longest_seq(A, I, m-1, n)); \n",
    "\n",
    "Alphabet = \"ABCDEFGHIJKLMNOPQRSTUVWXYZ\" # English alphabet in order\n",
    "Input = input(\"enter a sequence of alphabets with upper cases: \") # get the input from user\n",
    "\n",
    "if Input.isupper() and Input.isalpha(): #check if the input is consist of only capital english alphabet or not\n",
    "    print (\"Length of the longest subsequence is: \", longest_seq(Alphabet, Input, len(Alphabet), len(Input)))\n",
    "else:\n",
    "    print ('input is not valid')"
   ]
  },
  {
   "cell_type": "markdown",
   "metadata": {},
   "source": [
    "### 2. Show that the running time of the algorithm is exponential."
   ]
  },
  {
   "cell_type": "code",
   "execution_count": 39,
   "metadata": {
    "scrolled": true
   },
   "outputs": [
    {
     "data": {
      "image/png": "[encoded data removed]",
      "text/plain": [
       "<Figure size 432x288 with 1 Axes>"
      ]
     },
     "metadata": {
      "needs_background": "light"
     },
     "output_type": "display_data"
    }
   ],
   "source": [
    "# two empty list to gather the length of each element of the list letters and running time for each element\n",
    "runtime = []\n",
    "length = []\n",
    "\n",
    "# these functions creates a list consist of random letters, starting at one letter and increase the number of letters in each element by one\n",
    "def randomLetter(v=string.ascii_uppercase):\n",
    "    return ''.join(random.choice(v))\n",
    "def listGenerator():\n",
    "     letter = \"\"\n",
    "     for i in range(1,14):\n",
    "        letter += randomLetter()\n",
    "        yield letter\n",
    "letters = list(listGenerator())\n",
    "\n",
    "\n",
    "for i in range(len(letters)): # iterate through the random list\n",
    "    Alphabet = \"ABCDEFGHIJKLMNOPQRSTUVWXYZ\"\n",
    "    Input = letters[i]\n",
    "    \n",
    "    start = time.time() # start the timer\n",
    "    \n",
    "    longest_seq(Alphabet, Input, len(Alphabet), len(Input)) # Running the main function\n",
    "    t = (time.time() - start) # stop the timer and calculate the running time\n",
    "    l = len(Input)\n",
    "    runtime.append(t)\n",
    "    length.append(l)\n",
    "# draw the plot    \n",
    "plt.plot(length,runtime)\n",
    "plt.xticks(np.arange(1, l+1, 1.0))\n",
    "plt.title('running time by the number of input letters')\n",
    "plt.xlabel('number of letters')\n",
    "plt.ylabel('running time(second)')\n",
    "plt.show();"
   ]
  },
  {
   "cell_type": "markdown",
   "metadata": {},
   "source": [
    "As we can see on the plot, the running time of the algorithm grows exponentially by increasing the number of letters in the input. That is because the number of steps grows in superpolynomial time, so it must look at every permutation of values. Therefore the running time of the algorithm is exponential.\n"
   ]
  },
  {
   "cell_type": "markdown",
   "metadata": {},
   "source": [
    "### 3. Write a program that computes the length of the subsequence of maximum length, using dynamic programming."
   ]
  },
  {
   "cell_type": "markdown",
   "metadata": {},
   "source": [
    "We learned how to calculate the longest common subsequence of two strings using dynamic programming. Just by considering alphabets as one of the strings, we can easily calculate the maximum length of characters subsequence for an input string and English alphabets."
   ]
  },
  {
   "cell_type": "code",
   "execution_count": 49,
   "metadata": {},
   "outputs": [
    {
     "name": "stdout",
     "output_type": "stream",
     "text": [
      "enter a sequence of alphabets with upper cases: CEGPVQ\n",
      "Length of the longest subsequence is:  5\n"
     ]
    }
   ],
   "source": [
    "def lcs(A , I):\n",
    "    # get the length of inputs \n",
    "    m = len(A)\n",
    "    n = len(I)\n",
    "    # dedicate an array to the dynamic programming vector\n",
    "    L = [[None]*(n+1) for i in range(m+1)] \n",
    "    # Loop through the strings to fill the DP vector\n",
    "    for i in range(m+1): \n",
    "        for j in range(n+1): \n",
    "            if i == 0 or j == 0 : \n",
    "                L[i][j] = 0\n",
    "            elif A[i-1] == I[j-1]: \n",
    "                L[i][j] = L[i-1][j-1]+1\n",
    "            else: \n",
    "                L[i][j] = max(L[i-1][j] , L[i][j-1]) \n",
    "    # return the length of lcs for A,I  \n",
    "    return L[m][n]\n",
    "\n",
    "    \n",
    "Alphabet = \"ABCDEFGHIJKLMNOPQRSTUVWXYZ\" # English alphabet in order\n",
    "Input =  input(\"enter a sequence of alphabets with upper cases: \") # get the input from user\n",
    "\n",
    "if Input.isupper() and Input.isalpha(): #check if the input is consist of only capital english alphabets or not\n",
    "    print (\"Length of the longest subsequence is: \", lcs(Alphabet, Input))\n",
    "else:\n",
    "    print ('input is not valid')"
   ]
  },
  {
   "cell_type": "markdown",
   "metadata": {},
   "source": [
    "### 4. What is its runtime complexity?"
   ]
  },
  {
   "cell_type": "code",
   "execution_count": 37,
   "metadata": {
    "scrolled": true
   },
   "outputs": [
    {
     "data": {
      "image/png": "[encoded data removed]",
      "text/plain": [
       "<Figure size 432x288 with 1 Axes>"
      ]
     },
     "metadata": {
      "needs_background": "light"
     },
     "output_type": "display_data"
    }
   ],
   "source": [
    "# two empty list to gather the length of each element of the list letters and running time for each element\n",
    "runtime = []\n",
    "length = []\n",
    "\n",
    "# these functions create a list consist of random letters, starting at one letter and increase the number of letters in each element by one\n",
    "def randomLetter(v=string.ascii_uppercase):\n",
    "    return ''.join(random.choice(v))\n",
    "def listGenerator():\n",
    "     letter = \"\"\n",
    "     for i in range(1,1000):\n",
    "        letter += randomLetter()\n",
    "        yield letter\n",
    "letters = list(listGenerator())\n",
    "\n",
    "for i in range(len(letters)): # iterate through our random list\n",
    "    Input = letters[i]\n",
    "    Alphabet = \"ABCDEFGHIJKLMNOPQRSTUVWXYZ\"\n",
    "    \n",
    "    start = time.time() # start the timer\n",
    "    \n",
    "    lcs(Input, Alphabet) # Running the main function\n",
    "    t = (time.time() - start) # stop the timer and calculate the running time\n",
    "    l = len(Input)\n",
    "    runtime.append(t)\n",
    "    length.append(l)\n",
    "\n",
    "# draw the plot    \n",
    "plt.plot(length,runtime)\n",
    "plt.title('running time by the number of input letters')\n",
    "plt.xlabel('number of letters')\n",
    "plt.ylabel('running time(second)')\n",
    "plt.show();"
   ]
  },
  {
   "cell_type": "markdown",
   "metadata": {},
   "source": [
    "As we can see on the plot, by increasing the number of letters, no significant difference is visible in runtime(the differences are less than milliseconds). As inferred from the plot, the time complexity is linear. By another logic, it can be argued that because of the presence of two nested for loops with constant running time operations, the runtime complexity is $O(mn)$. This excersice showed that dynamic program is much better than the the recursive program. Since, As the size of the input increases, it becomes almost impossible to use the recursive algorithm.\n"
   ]
  },
  {
   "cell_type": "markdown",
   "metadata": {},
   "source": [
    "### Bonus"
   ]
  },
  {
   "cell_type": "markdown",
   "metadata": {},
   "source": [
    "  We want to prove that this formula is correct for $X[i]$ :\n",
    "\n",
    "$1$ $X[ i ]$ = the length of the longest sequence of characters in alphabetical order that terminates at the i-th character.\n",
    "\n",
    "$2$ $X[i] = 1 + max(X[j]; j = 0, ..., i-1 ,$ such that $S[j]<S[i])$\n",
    "\n",
    "$3$ $X[i] = 1,$ if there does not exist such a j.\n",
    "\n",
    "\n",
    "* for $i=1:$  $X[1] = 1$  we know that this is correct, since According to the $3$, we can't find such j for it.      \n",
    "* Now by using inductive logic we assume that  $X[1],...,X[i-1]$  are correct.\n",
    "* at the index $i$, the subsequence can be  $S[i]$ itself or the subsequence that started before and finish at $i$. Because the order is alphabetical, the second can happen only if  $S[j]<S[i]$ . if the first happen, we need to find maximum lenght by adding 1 to $S[j]$ since we added the letter at position $i$. So $X[i]$ is correct."
   ]
  }
 ],
 "metadata": {
  "kernelspec": {
   "display_name": "Python 3",
   "language": "python",
   "name": "python3"
  },
  "language_info": {
   "codemirror_mode": {
    "name": "ipython",
    "version": 3
   },
   "file_extension": ".py",
   "mimetype": "text/x-python",
   "name": "python",
   "nbconvert_exporter": "python",
   "pygments_lexer": "ipython3",
   "version": "3.8.5"
  }
 },
 "nbformat": 4,
 "nbformat_minor": 4
}
